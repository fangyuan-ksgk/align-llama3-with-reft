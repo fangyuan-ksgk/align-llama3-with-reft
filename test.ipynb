{
 "cells": [
  {
   "cell_type": "code",
   "execution_count": 1,
   "metadata": {},
   "outputs": [
    {
     "data": {
      "text/plain": [
       "['Agent: Okay, you are okay with the recording?',\n",
       " 'Customer: Yeah, sure.',\n",
       " 'Agent: Okay, so this is our first meeting?',\n",
       " 'Customer: Yes.',\n",
       " 'Agent: Hi, my name is Marge. You are?',\n",
       " 'Customer: Alice. Alice is my calling card. Thank you.',\n",
       " 'Agent: Thank you for your time today. I really appreciate it. How was your trip?',\n",
       " 'Customer: It was okay. Yeah, I was just nearby. I was having coffee with a friend.',\n",
       " 'Agent: Is it your first time to be in our BGC office?',\n",
       " \"Customer: Yeah, it's my first time talking about insurance as well because I've never bought insurance before. But a lot of my friends are getting it, and it sounds like it's important.\",\n",
       " \"Agent: Okay, and I'm very thankful to my friend Berna because she recommended me to you. So, yeah, thank you for your time. I know you just came here from your lunch break, so I don't want to hold you too long. If you have any questions, feel free to ask me.\",\n",
       " 'Customer: Okay.',\n",
       " \"Agent: By the way, I'm just going to show you a PowerPoint presentation before we actually go to the policy because it really depends on what your need is at the moment. You said you don't have any idea about insurance, right? But there are specific needs that we have like health, retirement, and income protection. What is your priority at the moment before I even begin the financial analysis?\",\n",
       " \"Customer: My priority? I'm not very sure.\",\n",
       " \"Agent: Do you think you have enough coverage for your health insurance? Do you want to save up for your retirement? You look like you're in your 20s, right?\",\n",
       " \"Customer: Yeah, I'm 28.\",\n",
       " 'Agent: Are you single?',\n",
       " 'Customer: Yes.',\n",
       " 'Agent: Normally, at this age, are you thinking about retirement, or do you really have no idea at all?',\n",
       " \"Customer: I don't really have any idea. Do you have recommendations? What do people usually get?\",\n",
       " \"Agent: The good thing about this financial analysis is that we will assess what your needs are at the moment. A good financial plan begins with a financial needs analysis. By the way, again, my name is Marge, and I am a unit manager or financial wealth manager at FWD. I've been in the business for seven years, and in FWD for two years. Have you heard about FWD before?\",\n",
       " 'Customer: Yeah, from Berna. But just from Berna.',\n",
       " \"Agent: Are you familiar with Security Bank? Most Filipinos say they haven't heard about FWD, or they have seen it on billboards or in the subway. Security Bank is a good bank here in the Philippines, and they offer FWD. I always advise my clients if you want to get insurance, get it from an insurance company tied up with a reputable bank. In Southeast Asia, FWD is top five in the business, concentrating in Asia with our main office in Hong Kong. Our tagline is 'We are changing the way people feel about insurance.' Here in the Philippines, people think insurance is expensive and only for the rich, but FWD offers a lot of affordable products. We are digital-first, even before the pandemic. So, why should we start saving?\",\n",
       " \"Customer: In case there's an accident or we get sick.\",\n",
       " \"Agent: Correct. When you think about getting old, building a family, retiring, getting sick, or passing away, what is the common denominator? It's about expenses, right? Medical, accident, retirement, debt—these are all expenses. Do you have any family member that was hospitalized recently or anyone you know who was hospitalized or had a major illness?\",\n",
       " \"Customer: My grandpa. He's quite old, like 80 years old, and he was hospitalized.\",\n",
       " 'Agent: Do you have any idea how much he spent for the hospitalization?',\n",
       " 'Customer: No.',\n",
       " \"Agent: In the Philippines, major illnesses can cost a lot. For example, a bypass can be around 800,000, a stroke 500,000, and an accident 1 million. When you retire, you should have at least 25,000 per month to cover expenses, which means you need around 3 million for a comfortable retirement. Now, let's talk about income protection. Do you have any dependents right now?\",\n",
       " 'Customer: No.',\n",
       " 'Agent: Your parents are not dependent on you?',\n",
       " 'Customer: No, they are not. I have an older brother who stays near my parents.',\n",
       " \"Agent: Based on how you talk to me, I can assess that you need health protection or retirement. You don't care much about income protection or life insurance. Are you saving enough money right now?\",\n",
       " 'Customer: Just saving a little bit.',\n",
       " \"Agent: It's expensive, right? So how much do you really need to save? We suggest saving at least 30% of your net income and enjoying the rest. What is your priority? Health, income protection, or retirement?\",\n",
       " 'Customer: I think maybe health.',\n",
       " 'Agent: Okay, and then number two?',\n",
       " \"Customer: What's income protection?\",\n",
       " \"Agent: It's the money that your beneficiary will get if you're no longer around. Based on what you mentioned, you can define what's important, but health is really important because if you get sick, all your savings could be used up. So, you made the right choice. Health and retirement?\",\n",
       " 'Customer: Yes, health and retirement.',\n",
       " \"Agent: Great. We have products like Set for Life and Set for Health. Set for Health offers health insurance with coverage from 500,000 up to 10 million. You can claim three times, and if you have a major illness, there's a waiver of premium. If you don't get sick by age 75, all the money you paid will be returned to you.\",\n",
       " 'Customer: Only at 75?',\n",
       " 'Agent: Yes, only at 75. Do you want to see a proposal?',\n",
       " 'Customer: Yes.',\n",
       " \"Agent: Okay, I'll generate a proposal for 500,000 coverage with 20 pay. You can also choose to pay annually, semi-annually, quarterly, or monthly. Annual payments give you a discount. Let me get your details to generate the proposal. Your last name?\",\n",
       " 'Customer: Liu. L-I-U.',\n",
       " 'Agent: When is your birthday?',\n",
       " 'Customer: January 15, 1996.',\n",
       " 'Agent: Can I have your email address?',\n",
       " 'Customer: AliceLiuTY@outlook.com.',\n",
       " \"Agent: I'll generate the proposal and send it to your email. For 500,000 coverage with 20 pay, you will pay 16,110 per year. If you claim once, you don't have to pay the remaining premiums. I'll send it to your email now.\"]"
      ]
     },
     "execution_count": 1,
     "metadata": {},
     "output_type": "execute_result"
    }
   ],
   "source": [
    "# Prepare the chat-completion version of the agent trainnig with ReFT\n",
    "from data.corpus import mock_conversation\n",
    "mock_conversation # list of string"
   ]
  },
  {
   "cell_type": "code",
   "execution_count": 16,
   "metadata": {},
   "outputs": [
    {
     "name": "stderr",
     "output_type": "stream",
     "text": [
      "Special tokens have been added in the vocabulary, make sure the associated word embeddings are fine-tuned or trained.\n"
     ]
    }
   ],
   "source": [
    "# Prepare dataset --> prompt & completion\n",
    "# Address the conversation history in a specific way | put that into the system prompt should be fine already \n",
    "import datasets\n",
    "\n",
    "def prepare_sale_dataset():\n",
    "    from data.corpus import mock_conversation\n",
    "\n",
    "    dataset_dict = {\n",
    "        \"system_prompt\": [],\n",
    "        \"prompt\": [],\n",
    "        \"completion\": []\n",
    "    }\n",
    "\n",
    "    for i_round in range(len(mock_conversation)//2):\n",
    "        mock_history = mock_conversation[:2*i_round + 1]\n",
    "        customer_utterance = mock_conversation[2*i_round + 1]\n",
    "        sale_response = mock_conversation[2*i_round + 2]\n",
    "\n",
    "        system_prompt = \"[Conversation History] \" + \" \".join(mock_history) + \"[End]\" \n",
    "        prompt = \"[Customer Utterance] \" + customer_utterance + \" [Sale Response] \"\n",
    "        completion = sale_response\n",
    "\n",
    "        dataset_dict[\"system_prompt\"].append(system_prompt)\n",
    "        dataset_dict[\"prompt\"].append(prompt)\n",
    "        dataset_dict[\"completion\"].append(completion)\n",
    "\n",
    "    # prepare a huggingface dataset object\n",
    "    dataset = datasets.Dataset.from_dict(dataset_dict)\n",
    "\n",
    "    return dataset\n",
    "\n",
    "dataset = prepare_sale_dataset()\n",
    "\n",
    "import transformers \n",
    "\n",
    "model_name_or_path = \"meta-llama/Meta-Llama-3-8B-Instruct\"\n",
    "model_max_length = 2048\n",
    "tokenizer = transformers.AutoTokenizer.from_pretrained(\n",
    "    model_name_or_path, model_max_length=model_max_length, \n",
    "    padding_side=\"right\", use_fast=False)\n",
    "\n",
    "system_prompt = \"Follow the instruction closely and provide your answer.\"\n",
    "query_list = [tokenizer.apply_chat_template(\n",
    "        [\n",
    "            {\"role\": \"system\", \"content\": data[\"system_prompt\"]}, \n",
    "            {\"role\": \"user\", \"content\": data['prompt']}\n",
    "        ], tokenize=False\n",
    ") for data in dataset]\n",
    "answer_list = [\n",
    "        tokenizer.apply_chat_template(\n",
    "            [{\"role\": \"assistant\", \"content\": data['completion']}], tokenize=False,\n",
    "        )[len(tokenizer.bos_token):] for data in dataset]\n",
    "\n"
   ]
  },
  {
   "cell_type": "code",
   "execution_count": null,
   "metadata": {},
   "outputs": [],
   "source": []
  },
  {
   "cell_type": "code",
   "execution_count": null,
   "metadata": {},
   "outputs": [],
   "source": []
  }
 ],
 "metadata": {
  "kernelspec": {
   "display_name": "base",
   "language": "python",
   "name": "python3"
  },
  "language_info": {
   "codemirror_mode": {
    "name": "ipython",
    "version": 3
   },
   "file_extension": ".py",
   "mimetype": "text/x-python",
   "name": "python",
   "nbconvert_exporter": "python",
   "pygments_lexer": "ipython3",
   "version": "3.11.5"
  }
 },
 "nbformat": 4,
 "nbformat_minor": 2
}
